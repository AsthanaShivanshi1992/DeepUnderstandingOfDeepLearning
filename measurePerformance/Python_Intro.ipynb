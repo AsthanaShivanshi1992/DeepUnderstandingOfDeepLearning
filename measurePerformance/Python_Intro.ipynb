{
 "cells": [
  {
   "cell_type": "code",
   "execution_count": 2,
   "metadata": {},
   "outputs": [],
   "source": [
    "#Object oriented programming\n",
    "#class : blueprint for creating a set of attributes and methods "
   ]
  },
  {
   "cell_type": "code",
   "execution_count": 5,
   "metadata": {},
   "outputs": [],
   "source": [
    "#Attributes: variables , parameters etc (fancy terms)\n",
    "#Methods: functions\n",
    "#Creation of an instance"
   ]
  },
  {
   "cell_type": "code",
   "execution_count": 10,
   "metadata": {},
   "outputs": [],
   "source": [
    "class model (object):\n",
    "    def __init__(self,numlayers,numunits,name):\n",
    "        self.layers= numlayers #attributes of the object\n",
    "        self.units=numunits\n",
    "        self.name=name\n",
    "    def howManyUnits(self):\n",
    "        totalUnits=self.layers * self.units\n",
    "        print(f'There are {totalUnits} Units in the model')"
   ]
  },
  {
   "cell_type": "code",
   "execution_count": 11,
   "metadata": {},
   "outputs": [],
   "source": [
    "m1=model(2,5,'CNN')#creation of an intsance of the class"
   ]
  },
  {
   "cell_type": "code",
   "execution_count": 12,
   "metadata": {},
   "outputs": [
    {
     "data": {
      "text/plain": [
       "<__main__.model at 0x104345100>"
      ]
     },
     "execution_count": 12,
     "metadata": {},
     "output_type": "execute_result"
    }
   ],
   "source": [
    "m1"
   ]
  },
  {
   "cell_type": "code",
   "execution_count": 14,
   "metadata": {},
   "outputs": [
    {
     "name": "stdout",
     "output_type": "stream",
     "text": [
      "There are 10 Units in the model\n"
     ]
    }
   ],
   "source": [
    "m1.howManyUnits() #calling a fucntion within the class to execute the attributes"
   ]
  },
  {
   "cell_type": "code",
   "execution_count": 23,
   "metadata": {},
   "outputs": [],
   "source": [
    "def trainTheModel(self,x):\n",
    "    self.weights+=x\n",
    "    return self.weights\n"
   ]
  },
  {
   "cell_type": "code",
   "execution_count": 24,
   "metadata": {},
   "outputs": [
    {
     "ename": "TypeError",
     "evalue": "trainTheModel() missing 1 required positional argument: 'x'",
     "output_type": "error",
     "traceback": [
      "\u001b[0;31m---------------------------------------------------------------------------\u001b[0m",
      "\u001b[0;31mTypeError\u001b[0m                                 Traceback (most recent call last)",
      "Cell \u001b[0;32mIn[24], line 1\u001b[0m\n\u001b[0;32m----> 1\u001b[0m m1\u001b[38;5;241m=\u001b[39mtrainTheModel(\u001b[38;5;241m2.5\u001b[39m)\n",
      "\u001b[0;31mTypeError\u001b[0m: trainTheModel() missing 1 required positional argument: 'x'"
     ]
    }
   ],
   "source": [
    "m1=trainTheModel(2.5)"
   ]
  },
  {
   "cell_type": "code",
   "execution_count": null,
   "metadata": {},
   "outputs": [],
   "source": []
  }
 ],
 "metadata": {
  "kernelspec": {
   "display_name": "Python 3",
   "language": "python",
   "name": "python3"
  },
  "language_info": {
   "codemirror_mode": {
    "name": "ipython",
    "version": 3
   },
   "file_extension": ".py",
   "mimetype": "text/x-python",
   "name": "python",
   "nbconvert_exporter": "python",
   "pygments_lexer": "ipython3",
   "version": "3.12.4"
  }
 },
 "nbformat": 4,
 "nbformat_minor": 2
}
